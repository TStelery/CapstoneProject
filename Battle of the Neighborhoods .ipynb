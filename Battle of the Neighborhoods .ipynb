{
    "nbformat_minor": 1, 
    "cells": [
        {
            "source": "## Background", 
            "cell_type": "markdown", 
            "metadata": {
                "collapsed": true
            }
        }, 
        {
            "source": "The changing demographics of a city is an important consideration for businesses trying to best adapt to the demands of its citizenry. One prominent demographic that influences the cultural landscape of the city it overtakes is millenials(defined as ages 18-38). Looking at the cities with the largest influx of millenial migration, the city of Seattle Washington consistently ranks at the top of the charts nearly every year. It is no secret that millenials overwhelmingly flock to the city, and the trope has become one that is popularly cited within pop culture alongside of the cities of Portland Oregon and Williamsburg New York. It would be useful to visualize how this demographic change correlates to a change in the types of venues that populate the city.", 
            "cell_type": "markdown", 
            "metadata": {}
        }, 
        {
            "source": "## Data ", 
            "cell_type": "markdown", 
            "metadata": {}
        }, 
        {
            "source": "The data for this project will come from the use of Foursquare API to get the most common venues in Seattle Washington at 2 points in time. One will come from the most recent data available, and the other will come from the most distant data available. The most common venues will be calculated as a proportion of total venues, and those will be even further broken down into sub-venues as a proportion. For example, the proportion of Mexican restaurants out of the total number of restaurant-venues. These 2 sets of proportions will be compared to eachother to highlight any noteable increases or decreases that correspond to the increasing influx of millenials migrating to the city. ", 
            "cell_type": "markdown", 
            "metadata": {}
        }, 
        {
            "execution_count": null, 
            "cell_type": "code", 
            "metadata": {}, 
            "outputs": [], 
            "source": ""
        }
    ], 
    "metadata": {
        "kernelspec": {
            "display_name": "Python 3.6", 
            "name": "python3", 
            "language": "python"
        }, 
        "language_info": {
            "mimetype": "text/x-python", 
            "nbconvert_exporter": "python", 
            "version": "3.6.8", 
            "name": "python", 
            "file_extension": ".py", 
            "pygments_lexer": "ipython3", 
            "codemirror_mode": {
                "version": 3, 
                "name": "ipython"
            }
        }
    }, 
    "nbformat": 4
}